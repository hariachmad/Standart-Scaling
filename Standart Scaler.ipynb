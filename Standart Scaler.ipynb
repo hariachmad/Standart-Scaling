{
 "cells": [
  {
   "cell_type": "code",
   "execution_count": 3,
   "metadata": {},
   "outputs": [],
   "source": [
    "import pandas as pd\n",
    "import numpy as np"
   ]
  },
  {
   "cell_type": "code",
   "execution_count": 30,
   "metadata": {},
   "outputs": [
    {
     "data": {
      "text/html": [
       "<div>\n",
       "<style scoped>\n",
       "    .dataframe tbody tr th:only-of-type {\n",
       "        vertical-align: middle;\n",
       "    }\n",
       "\n",
       "    .dataframe tbody tr th {\n",
       "        vertical-align: top;\n",
       "    }\n",
       "\n",
       "    .dataframe thead th {\n",
       "        text-align: right;\n",
       "    }\n",
       "</style>\n",
       "<table border=\"1\" class=\"dataframe\">\n",
       "  <thead>\n",
       "    <tr style=\"text-align: right;\">\n",
       "      <th></th>\n",
       "      <th>Kota</th>\n",
       "      <th>Umur</th>\n",
       "      <th>MasaKerja</th>\n",
       "      <th>Gaji</th>\n",
       "      <th>Bonus</th>\n",
       "    </tr>\n",
       "  </thead>\n",
       "  <tbody>\n",
       "    <tr>\n",
       "      <th>0</th>\n",
       "      <td>Surabaya</td>\n",
       "      <td>27.0</td>\n",
       "      <td>9</td>\n",
       "      <td>51000</td>\n",
       "      <td>Yes</td>\n",
       "    </tr>\n",
       "    <tr>\n",
       "      <th>1</th>\n",
       "      <td>Jakarta</td>\n",
       "      <td>29.0</td>\n",
       "      <td>9</td>\n",
       "      <td>48000</td>\n",
       "      <td>Yes</td>\n",
       "    </tr>\n",
       "    <tr>\n",
       "      <th>2</th>\n",
       "      <td>Surabaya</td>\n",
       "      <td>30.0</td>\n",
       "      <td>5</td>\n",
       "      <td>52000</td>\n",
       "      <td>No</td>\n",
       "    </tr>\n",
       "    <tr>\n",
       "      <th>3</th>\n",
       "      <td>Jakarta</td>\n",
       "      <td>25.0</td>\n",
       "      <td>5</td>\n",
       "      <td>66000</td>\n",
       "      <td>No</td>\n",
       "    </tr>\n",
       "    <tr>\n",
       "      <th>4</th>\n",
       "      <td>Kediri</td>\n",
       "      <td>48.0</td>\n",
       "      <td>10</td>\n",
       "      <td>68000</td>\n",
       "      <td>Yes</td>\n",
       "    </tr>\n",
       "    <tr>\n",
       "      <th>5</th>\n",
       "      <td>Kediri</td>\n",
       "      <td>33.0</td>\n",
       "      <td>8</td>\n",
       "      <td>51000</td>\n",
       "      <td>No</td>\n",
       "    </tr>\n",
       "    <tr>\n",
       "      <th>6</th>\n",
       "      <td>Malang</td>\n",
       "      <td>33.0</td>\n",
       "      <td>9</td>\n",
       "      <td>69000</td>\n",
       "      <td>No</td>\n",
       "    </tr>\n",
       "    <tr>\n",
       "      <th>7</th>\n",
       "      <td>Jakarta</td>\n",
       "      <td>40.0</td>\n",
       "      <td>10</td>\n",
       "      <td>79000</td>\n",
       "      <td>Yes</td>\n",
       "    </tr>\n",
       "    <tr>\n",
       "      <th>8</th>\n",
       "      <td>Surabaya</td>\n",
       "      <td>38.0</td>\n",
       "      <td>8</td>\n",
       "      <td>68000</td>\n",
       "      <td>Yes</td>\n",
       "    </tr>\n",
       "    <tr>\n",
       "      <th>9</th>\n",
       "      <td>Malang</td>\n",
       "      <td>35.0</td>\n",
       "      <td>8</td>\n",
       "      <td>38000</td>\n",
       "      <td>No</td>\n",
       "    </tr>\n",
       "    <tr>\n",
       "      <th>10</th>\n",
       "      <td>Kediri</td>\n",
       "      <td>28.0</td>\n",
       "      <td>8</td>\n",
       "      <td>56000</td>\n",
       "      <td>No</td>\n",
       "    </tr>\n",
       "    <tr>\n",
       "      <th>11</th>\n",
       "      <td>Malang</td>\n",
       "      <td>35.0</td>\n",
       "      <td>8</td>\n",
       "      <td>72000</td>\n",
       "      <td>No</td>\n",
       "    </tr>\n",
       "    <tr>\n",
       "      <th>12</th>\n",
       "      <td>Jakarta</td>\n",
       "      <td>36.5</td>\n",
       "      <td>12</td>\n",
       "      <td>79000</td>\n",
       "      <td>Yes</td>\n",
       "    </tr>\n",
       "    <tr>\n",
       "      <th>13</th>\n",
       "      <td>Surabaya</td>\n",
       "      <td>31.0</td>\n",
       "      <td>8</td>\n",
       "      <td>85000</td>\n",
       "      <td>No</td>\n",
       "    </tr>\n",
       "    <tr>\n",
       "      <th>14</th>\n",
       "      <td>Malang</td>\n",
       "      <td>37.0</td>\n",
       "      <td>6</td>\n",
       "      <td>49000</td>\n",
       "      <td>No</td>\n",
       "    </tr>\n",
       "    <tr>\n",
       "      <th>15</th>\n",
       "      <td>Surabaya</td>\n",
       "      <td>40.0</td>\n",
       "      <td>11</td>\n",
       "      <td>69000</td>\n",
       "      <td>Yes</td>\n",
       "    </tr>\n",
       "    <tr>\n",
       "      <th>16</th>\n",
       "      <td>Kediri</td>\n",
       "      <td>50.0</td>\n",
       "      <td>8</td>\n",
       "      <td>68000</td>\n",
       "      <td>Yes</td>\n",
       "    </tr>\n",
       "    <tr>\n",
       "      <th>17</th>\n",
       "      <td>Surabaya</td>\n",
       "      <td>31.0</td>\n",
       "      <td>8</td>\n",
       "      <td>68000</td>\n",
       "      <td>No</td>\n",
       "    </tr>\n",
       "    <tr>\n",
       "      <th>18</th>\n",
       "      <td>Surabaya</td>\n",
       "      <td>36.5</td>\n",
       "      <td>4</td>\n",
       "      <td>68000</td>\n",
       "      <td>Yes</td>\n",
       "    </tr>\n",
       "    <tr>\n",
       "      <th>19</th>\n",
       "      <td>Kediri</td>\n",
       "      <td>41.0</td>\n",
       "      <td>6</td>\n",
       "      <td>75000</td>\n",
       "      <td>Yes</td>\n",
       "    </tr>\n",
       "    <tr>\n",
       "      <th>20</th>\n",
       "      <td>Kediri</td>\n",
       "      <td>29.0</td>\n",
       "      <td>8</td>\n",
       "      <td>70000</td>\n",
       "      <td>No</td>\n",
       "    </tr>\n",
       "  </tbody>\n",
       "</table>\n",
       "</div>"
      ],
      "text/plain": [
       "        Kota  Umur  MasaKerja   Gaji Bonus\n",
       "0   Surabaya  27.0          9  51000   Yes\n",
       "1    Jakarta  29.0          9  48000   Yes\n",
       "2   Surabaya  30.0          5  52000    No\n",
       "3    Jakarta  25.0          5  66000    No\n",
       "4     Kediri  48.0         10  68000   Yes\n",
       "5     Kediri  33.0          8  51000    No\n",
       "6     Malang  33.0          9  69000    No\n",
       "7    Jakarta  40.0         10  79000   Yes\n",
       "8   Surabaya  38.0          8  68000   Yes\n",
       "9     Malang  35.0          8  38000    No\n",
       "10    Kediri  28.0          8  56000    No\n",
       "11    Malang  35.0          8  72000    No\n",
       "12   Jakarta  36.5         12  79000   Yes\n",
       "13  Surabaya  31.0          8  85000    No\n",
       "14    Malang  37.0          6  49000    No\n",
       "15  Surabaya  40.0         11  69000   Yes\n",
       "16    Kediri  50.0          8  68000   Yes\n",
       "17  Surabaya  31.0          8  68000    No\n",
       "18  Surabaya  36.5          4  68000   Yes\n",
       "19    Kediri  41.0          6  75000   Yes\n",
       "20    Kediri  29.0          8  70000    No"
      ]
     },
     "execution_count": 30,
     "metadata": {},
     "output_type": "execute_result"
    }
   ],
   "source": [
    "dataset=pd.read_csv('./datapegawai3.csv')\n",
    "dataset "
   ]
  },
  {
   "cell_type": "code",
   "execution_count": 36,
   "metadata": {},
   "outputs": [
    {
     "data": {
      "text/plain": [
       "array(['Yes', 'Yes', 'No', 'No', 'Yes', 'No', 'No', 'Yes', 'Yes', 'No',\n",
       "       'No', 'No', 'Yes', 'No', 'No', 'Yes', 'Yes', 'No', 'Yes', 'Yes',\n",
       "       'No'], dtype=object)"
      ]
     },
     "execution_count": 36,
     "metadata": {},
     "output_type": "execute_result"
    }
   ],
   "source": [
    "x=dataset.iloc[:,:4].values\n",
    "y=dataset.iloc[:,-1].values\n",
    "y"
   ]
  },
  {
   "cell_type": "code",
   "execution_count": 32,
   "metadata": {},
   "outputs": [
    {
     "data": {
      "text/plain": [
       "array(['Surabaya', 'Jakarta', 'Kediri', 'Malang'], dtype=object)"
      ]
     },
     "execution_count": 32,
     "metadata": {},
     "output_type": "execute_result"
    }
   ],
   "source": [
    "pd.unique(dataset['Kota'])"
   ]
  },
  {
   "cell_type": "code",
   "execution_count": 33,
   "metadata": {},
   "outputs": [],
   "source": [
    "from sklearn.compose import ColumnTransformer\n",
    "from sklearn.preprocessing import OneHotEncoder"
   ]
  },
  {
   "cell_type": "code",
   "execution_count": 44,
   "metadata": {},
   "outputs": [
    {
     "data": {
      "text/plain": [
       "array([[0.0, 0.0, 0.0, 1.0, 27.0, 9, 51000],\n",
       "       [1.0, 0.0, 0.0, 0.0, 29.0, 9, 48000],\n",
       "       [0.0, 0.0, 0.0, 1.0, 30.0, 5, 52000],\n",
       "       [1.0, 0.0, 0.0, 0.0, 25.0, 5, 66000],\n",
       "       [0.0, 1.0, 0.0, 0.0, 48.0, 10, 68000],\n",
       "       [0.0, 1.0, 0.0, 0.0, 33.0, 8, 51000],\n",
       "       [0.0, 0.0, 1.0, 0.0, 33.0, 9, 69000],\n",
       "       [1.0, 0.0, 0.0, 0.0, 40.0, 10, 79000],\n",
       "       [0.0, 0.0, 0.0, 1.0, 38.0, 8, 68000],\n",
       "       [0.0, 0.0, 1.0, 0.0, 35.0, 8, 38000],\n",
       "       [0.0, 1.0, 0.0, 0.0, 28.0, 8, 56000],\n",
       "       [0.0, 0.0, 1.0, 0.0, 35.0, 8, 72000],\n",
       "       [1.0, 0.0, 0.0, 0.0, 36.5, 12, 79000],\n",
       "       [0.0, 0.0, 0.0, 1.0, 31.0, 8, 85000],\n",
       "       [0.0, 0.0, 1.0, 0.0, 37.0, 6, 49000],\n",
       "       [0.0, 0.0, 0.0, 1.0, 40.0, 11, 69000],\n",
       "       [0.0, 1.0, 0.0, 0.0, 50.0, 8, 68000],\n",
       "       [0.0, 0.0, 0.0, 1.0, 31.0, 8, 68000],\n",
       "       [0.0, 0.0, 0.0, 1.0, 36.5, 4, 68000],\n",
       "       [0.0, 1.0, 0.0, 0.0, 41.0, 6, 75000],\n",
       "       [0.0, 1.0, 0.0, 0.0, 29.0, 8, 70000]], dtype=object)"
      ]
     },
     "execution_count": 44,
     "metadata": {},
     "output_type": "execute_result"
    }
   ],
   "source": [
    "coltras=ColumnTransformer(transformers=[('encoder',OneHotEncoder(),[0])],remainder='passthrough')\n",
    "x=np.array(coltras.fit_transform(x))\n",
    "x"
   ]
  },
  {
   "cell_type": "code",
   "execution_count": 45,
   "metadata": {},
   "outputs": [
    {
     "data": {
      "text/plain": [
       "array([1, 1, 0, 0, 1, 0, 0, 1, 1, 0, 0, 0, 1, 0, 0, 1, 1, 0, 1, 1, 0])"
      ]
     },
     "execution_count": 45,
     "metadata": {},
     "output_type": "execute_result"
    }
   ],
   "source": [
    "from sklearn.preprocessing import LabelEncoder\n",
    "labelenc=LabelEncoder()\n",
    "y=labelenc.fit_transform(y)\n",
    "y\n"
   ]
  },
  {
   "cell_type": "code",
   "execution_count": 46,
   "metadata": {},
   "outputs": [],
   "source": [
    "from sklearn.model_selection import train_test_split\n",
    "x_train,x_test,y_train,y_test=train_test_split(x,y,test_size=0.25,random_state=0)\n"
   ]
  },
  {
   "cell_type": "code",
   "execution_count": 47,
   "metadata": {},
   "outputs": [
    {
     "data": {
      "text/plain": [
       "array([[0.0, 0.0, 0.0, 1.0, 38.0, 8, 68000],\n",
       "       [0.0, 0.0, 0.0, 1.0, 31.0, 8, 85000],\n",
       "       [0.0, 1.0, 0.0, 0.0, 29.0, 8, 70000],\n",
       "       [1.0, 0.0, 0.0, 0.0, 29.0, 9, 48000],\n",
       "       [0.0, 0.0, 1.0, 0.0, 35.0, 8, 72000],\n",
       "       [0.0, 1.0, 0.0, 0.0, 28.0, 8, 56000]], dtype=object)"
      ]
     },
     "execution_count": 47,
     "metadata": {},
     "output_type": "execute_result"
    }
   ],
   "source": [
    "x_test"
   ]
  },
  {
   "cell_type": "code",
   "execution_count": 49,
   "metadata": {},
   "outputs": [
    {
     "data": {
      "text/plain": [
       "array([[0.0, 0.0, 0.0, 1.0, 1.7417271443536015, -0.44721359549995804,\n",
       "        0.12681088516208938],\n",
       "       [0.0, 0.0, 0.0, 1.0, -0.18333969940564224, -0.44721359549995804,\n",
       "        1.5640009169991023],\n",
       "       [0.0, 1.0, 0.0, 0.0, -0.7333587976225691, -0.44721359549995804,\n",
       "        0.29589206537820856],\n",
       "       [1.0, 0.0, 0.0, 0.0, -0.7333587976225691, 2.23606797749979,\n",
       "        -1.5640009169991023],\n",
       "       [0.0, 0.0, 1.0, 0.0, 0.9166984970282113, -0.44721359549995804,\n",
       "        0.46497324559432773],\n",
       "       [0.0, 1.0, 0.0, 0.0, -1.0083683467310323, -0.44721359549995804,\n",
       "        -0.8876761961346256]], dtype=object)"
      ]
     },
     "execution_count": 49,
     "metadata": {},
     "output_type": "execute_result"
    }
   ],
   "source": [
    "from sklearn.preprocessing import StandardScaler\n",
    "scaler=StandardScaler()\n",
    "x_test[:,4:]=scaler.fit_transform(x_test[:,4:])\n",
    "x_train[:,4:]=scaler.fit_transform(x_train[:,4:])\n",
    "\n",
    "x_test\n",
    "\n"
   ]
  }
 ],
 "metadata": {
  "kernelspec": {
   "display_name": "base",
   "language": "python",
   "name": "python3"
  },
  "language_info": {
   "codemirror_mode": {
    "name": "ipython",
    "version": 3
   },
   "file_extension": ".py",
   "mimetype": "text/x-python",
   "name": "python",
   "nbconvert_exporter": "python",
   "pygments_lexer": "ipython3",
   "version": "3.11.5"
  }
 },
 "nbformat": 4,
 "nbformat_minor": 2
}
